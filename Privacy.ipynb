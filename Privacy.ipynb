{
 "cells": [
  {
   "cell_type": "markdown",
   "id": "5375b61b-4f48-45ef-8f60-85e5814d06f6",
   "metadata": {},
   "source": [
    "# Introduction\n",
    "\n",
    "Synthesized generated data is privacy preserving by design, as the sampled data doesn't contain any row from the training set. "
   ]
  },
  {
   "cell_type": "markdown",
   "id": "f916ac79-2e51-446e-8caf-6ae23a634df7",
   "metadata": {},
   "source": [
    "## Entity Annotation\n",
    "\n",
    "If the dataset contains PII the entity annotation module is available, [read more here](https://docs.synthesized.io/v1.4/user_guide/augmentation/annotations.html). These are benefits of annotating one or multiple columns as entities\n",
    "* **Privacy**. If a dataset contains personal data such as names, addresses, or bank accounts, annotating these columns as entities the Synthesizer will automatically generate fake data for these columns.\n",
    "* **Correlations**. Entities contain some strict rules that need to be enforced, such as gender, title and name, or postcodes and cities. With entity annotation, the generator will sample coherent data for these fields.\n",
    "* **Realistic data**. Annotated fields contain some fake data that is not present in the original dataset, but it is still realistic. The Synthesizer is able to generate real UK addresses if required, and person (including names, phone numbers, emails, passwords among other fields) and bank accounts that look as real as possible.\n",
    "* **User-defined Location**. Annotations have some configurable fields, like location. By default, persons will have standard English names, but one also can configure it to have other languages (such as Chinese, Russian among others).\n"
   ]
  },
  {
   "cell_type": "markdown",
   "id": "a0c63d6b-8782-4c65-8a30-9da83cae1cc9",
   "metadata": {},
   "source": [
    "## Differential Privacy"
   ]
  },
  {
   "cell_type": "markdown",
   "id": "075c367d-abf5-4d29-b79f-c1c2630ba548",
   "metadata": {},
   "source": [
    "## Inference Attack\n",
    "\n",
    "Synthesized’s privacy module provides various ways to assess the robustness of synthesized data against different types of attribute inference attack. Attribute inference attack refers to the situation when an attacker adversary might deduce, with significant probability, the value of a hidden sensitive attribute from the values of other attributes. \n",
    "\n",
    "In practice, the attacker will have full access to the synthetic data and partial access to the original data. The attacker will train a model using synthetic data, and then use the trained model to predict the unknown value of the sensitive attribute using the known attributes of the original data. Hence, it is important and useful to assess the vulnerability of synthetic dataset against the risk of inference attacks so that the privacy and confidentiality of the original data is preserved.\n",
    "\n",
    "Synthesized provides two main classes to assess the attribute inference attack:\n",
    "\n",
    "* `AttributeInferenceAttackML`\n",
    "* `AttributeInferenceAttackCAP`\n",
    "\n",
    "Machine Learning (ML) models or Correct Attribution Probability (CAP) models are fit to the synthetic data. The fitted model is then used to compute the privacy score of a sensitive column of the original dataset using predictors in the original dataset. Privacy scores are between 0 and 1; 0 means negligible privacy and 1 means absolute privacy.\n"
   ]
  },
  {
   "cell_type": "markdown",
   "id": "94e2d94e-1599-41b9-a781-976bf4823f9c",
   "metadata": {},
   "source": [
    "### Attribute Inference Attack using ML\n",
    "\n",
    "`AttributeInferenceAttackML` trains a machine learning model to predict the sensitive attribute using the synthesized dataset. The fitted model is then used to predict the sensitive values in the original dataset. Finally, a privacy score is calculated based on the true value and the predicted value of the sensitive column in the original dataset."
   ]
  },
  {
   "cell_type": "markdown",
   "id": "08ad58db-4e31-4f7b-aed0-fa4534454257",
   "metadata": {},
   "source": [
    "### Attribute Inference Attack using CAP\n",
    "\n",
    "`AttributeInferenceAttackCAP` computes the privacy score using CAP (Correct Attribution Probability) model. It is modeled as the probability that an attribution is correct. It differs from the ML approach because it doesn’t depend on the choice of the ML model and its training.\n"
   ]
  },
  {
   "cell_type": "markdown",
   "id": "36cc8c52-cc66-47e3-a7b7-f6fbbcd9e7b2",
   "metadata": {},
   "source": [
    "## Linkage Attack"
   ]
  }
 ],
 "metadata": {
  "kernelspec": {
   "display_name": "Python 3",
   "language": "python",
   "name": "python3"
  },
  "language_info": {
   "codemirror_mode": {
    "name": "ipython",
    "version": 3
   },
   "file_extension": ".py",
   "mimetype": "text/x-python",
   "name": "python",
   "nbconvert_exporter": "python",
   "pygments_lexer": "ipython3",
   "version": "3.7.10"
  }
 },
 "nbformat": 4,
 "nbformat_minor": 5
}
